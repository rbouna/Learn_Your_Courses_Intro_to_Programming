{
 "cells": [
  {
   "cell_type": "markdown",
   "metadata": {},
   "source": [
    "---\n"
   ]
  },
  {
   "cell_type": "markdown",
   "metadata": {},
   "source": [
    "### Cet exercice te permettra de prendre la main."
   ]
  },
  {
   "cell_type": "markdown",
   "metadata": {},
   "source": [
    "# Question 1\n",
    "\n",
    "Après, tu exécutes quelque venant du cours, ainsi tu pourra voir comment travailler par toi-même.  exécute la cellule suivante sans rien changer."
   ]
  },
  {
   "cell_type": "code",
   "execution_count": 1,
   "metadata": {
    "execution": {
     "iopub.execute_input": "2025-01-23T23:17:34.466511Z",
     "iopub.status.busy": "2025-01-23T23:17:34.466059Z",
     "iopub.status.idle": "2025-01-23T23:17:34.476732Z",
     "shell.execute_reply": "2025-01-23T23:17:34.475588Z",
     "shell.execute_reply.started": "2025-01-23T23:17:34.466476Z"
    },
    "trusted": true
   },
   "outputs": [
    {
     "name": "stdout",
     "output_type": "stream",
     "text": [
      "Hello, world!\n"
     ]
    }
   ],
   "source": [
    "print(\"Hello, world!\")"
   ]
  },
  {
   "cell_type": "markdown",
   "metadata": {},
   "source": [
    "# Question 2\n",
    "\n",
    "Maintenant, tu pourras afficher d'autres messages de ton choix.  pour faire ça, change `print(\" écrire ton message ici !\")`. Par exemple:\n",
    "- `print(\"Good morning!\")`\n",
    "- `print(\"I am learning how to code :D\")`."
   ]
  },
  {
   "cell_type": "code",
   "execution_count": 2,
   "metadata": {
    "execution": {
     "iopub.execute_input": "2025-01-23T23:21:27.321812Z",
     "iopub.status.busy": "2025-01-23T23:21:27.321365Z",
     "iopub.status.idle": "2025-01-23T23:21:27.331248Z",
     "shell.execute_reply": "2025-01-23T23:21:27.330045Z",
     "shell.execute_reply.started": "2025-01-23T23:21:27.321778Z"
    },
    "trusted": true
   },
   "outputs": [
    {
     "name": "stdout",
     "output_type": "stream",
     "text": [
      "Good morning!\n",
      "I am learning how to code :D\n"
     ]
    }
   ],
   "source": [
    "print(\"Good morning!\")\n",
    "print(\"I am learning how to code :D\")"
   ]
  },
  {
   "cell_type": "markdown",
   "metadata": {},
   "source": [
    "# Question 3\n",
    "\n",
    "    Commentaire dans un code"
   ]
  },
  {
   "cell_type": "code",
   "execution_count": 7,
   "metadata": {
    "execution": {
     "iopub.execute_input": "2025-01-23T23:23:52.257090Z",
     "iopub.status.busy": "2025-01-23T23:23:52.256674Z",
     "iopub.status.idle": "2025-01-23T23:23:52.272524Z",
     "shell.execute_reply": "2025-01-23T23:23:52.271635Z",
     "shell.execute_reply.started": "2025-01-23T23:23:52.257060Z"
    },
    "trusted": true
   },
   "outputs": [],
   "source": [
    "# print(1+2)"
   ]
  },
  {
   "cell_type": "markdown",
   "metadata": {},
   "source": [
    "# Question 4\n",
    "\n",
    "Définition de plusieurs variable, pour calculer le total de nombre de secondes en une année to calculate."
   ]
  },
  {
   "cell_type": "code",
   "execution_count": 8,
   "metadata": {
    "execution": {
     "iopub.execute_input": "2025-01-23T23:25:05.155063Z",
     "iopub.status.busy": "2025-01-23T23:25:05.154709Z",
     "iopub.status.idle": "2025-01-23T23:25:05.161124Z",
     "shell.execute_reply": "2025-01-23T23:25:05.159806Z",
     "shell.execute_reply.started": "2025-01-23T23:25:05.155035Z"
    },
    "trusted": true
   },
   "outputs": [
    {
     "name": "stdout",
     "output_type": "stream",
     "text": [
      "126144000\n"
     ]
    }
   ],
   "source": [
    "# Creation des variables\n",
    "num_years = 4\n",
    "days_per_year = 365 \n",
    "hours_per_day = 24\n",
    "mins_per_hour = 60\n",
    "secs_per_min = 60\n",
    "\n",
    "# calcul du nombre de sécondes en une année\n",
    "total_secs = secs_per_min * mins_per_hour * hours_per_day * days_per_year * num_years\n",
    "print(total_secs)"
   ]
  },
  {
   "cell_type": "markdown",
   "metadata": {},
   "source": [
    "Utilise la cellule suivante pour:\n",
    "- Definir une variable `births_per_min` et affecter la valeur 250.(Ils ya en moyenne  250 bébés qui naissent chaque minutes.)\n",
    "- Definir une variable`births_per_day`  que contient le nombre moyen des bébés nés par jour. \n",
    "    \n",
    "    Pour avoir la valeur de cette nouvelle variable il faudrait utiliser  `births_per_min` et quelques variable venant de la cellule precédente."
   ]
  },
  {
   "cell_type": "code",
   "execution_count": 18,
   "metadata": {
    "execution": {
     "iopub.execute_input": "2025-01-23T23:27:49.082379Z",
     "iopub.status.busy": "2025-01-23T23:27:49.082017Z",
     "iopub.status.idle": "2025-01-23T23:27:49.090360Z",
     "shell.execute_reply": "2025-01-23T23:27:49.089478Z",
     "shell.execute_reply.started": "2025-01-23T23:27:49.082354Z"
    },
    "trusted": true
   },
   "outputs": [
    {
     "name": "stdout",
     "output_type": "stream",
     "text": [
      "2190000\n"
     ]
    }
   ],
   "source": [
    "births_per_min = 250                                                            # Affecter 250 à la variable births_per_min\n",
    "births_per_day = days_per_year*births_per_min*hours_per_day                     # Calculer la valeur de la variable births_per_day\n",
    "print(births_per_day)                                                           # Afficher le résultat"
   ]
  },
  {
   "cell_type": "markdown",
   "metadata": {},
   "source": [
    "# Question 5\n",
    "    création du dictionnaire avant tout(dictionnaire à comprendre plus tard)\n",
    "    exécuter le code suivant sans rien changer definition de notre mini tableau"
   ]
  },
  {
   "cell_type": "code",
   "execution_count": 10,
   "metadata": {},
   "outputs": [
    {
     "data": {
      "text/plain": [
       "{'PassengerId': [1, 2, 3, 4, 5],\n",
       " 'Survived': [0, 1, 1, 1, 0],\n",
       " 'Pclass': [3, 1, 3, 1, 3],\n",
       " 'Name': ['Braund,Mr.Owen Harris',\n",
       "  'Cumings, Mrs. John Bradley(Florence Briggs Thard)',\n",
       "  'Heikkinen, Miss. Laina',\n",
       "  'Futrelle,Mrs. Jacques Heath(Lily May Peel)',\n",
       "  'Allen, Mr. William Henry'],\n",
       " 'Sex': ['male', 'female', 'female', 'female', 'male'],\n",
       " 'Age': [22.0, 38.0, 26.0, 35.0, 35.0],\n",
       " 'SibSp': [1, 1, 0, 1, 0],\n",
       " 'Parch': [0, 0, 0, 0, 0],\n",
       " 'Ticket': ['A/5 21171', 'PC 17599', 'STON/02.3101282', 113803, 373450],\n",
       " 'Fare': [7.25, 71.2833, 7.925, 53.1, 8.05],\n",
       " 'Cabin': ['NaN', 'C85', 'NaN', 'C123', 'NaN'],\n",
       " 'Embarked': ['S', 'C', 'S', 'S', 'S']}"
      ]
     },
     "execution_count": 10,
     "metadata": {},
     "output_type": "execute_result"
    }
   ],
   "source": [
    "dict_titanic = {\"PassengerId\":[1,2,3,4,5]\n",
    "        ,\"Survived\":[0,1,1,1,0],\n",
    "        \"Pclass\":[3,1,3,1,3],\n",
    "        \"Name\":[\"Braund,Mr.Owen Harris\",\"Cumings, Mrs. John Bradley(Florence Briggs Thard)\", \"Heikkinen, Miss. Laina\",\"Futrelle,Mrs. Jacques Heath(Lily May Peel)\",\"Allen, Mr. William Henry\"],\n",
    "        \"Sex\":[\"male\",\"female\",\"female\",\"female\",\"male\"],\n",
    "        \"Age\":[22.0,38.0,26.0,35.0,35.0],\n",
    "        \"SibSp\":[1,1,0,1,0],\n",
    "        \"Parch\":[0,0,0,0,0],\n",
    "        \"Ticket\":[\"A/5 21171\",\"PC 17599\",\"STON/02.3101282\",113803,373450],\n",
    "        \"Fare\":[7.2500,71.2833,7.9250,53.1000,8.0500],\n",
    "        \"Cabin\":[\"NaN\",\"C85\",\"NaN\",\"C123\",\"NaN\"],\n",
    "        \"Embarked\":[\"S\",\"C\",\"S\",\"S\",\"S\"]}\n",
    "dict_titanic"
   ]
  },
  {
   "cell_type": "code",
   "execution_count": 15,
   "metadata": {
    "execution": {
     "iopub.execute_input": "2025-01-23T23:31:44.510143Z",
     "iopub.status.busy": "2025-01-23T23:31:44.509783Z",
     "iopub.status.idle": "2025-01-23T23:31:44.560006Z",
     "shell.execute_reply": "2025-01-23T23:31:44.558820Z",
     "shell.execute_reply.started": "2025-01-23T23:31:44.510117Z"
    },
    "trusted": true
   },
   "outputs": [
    {
     "data": {
      "text/html": [
       "<div>\n",
       "<style scoped>\n",
       "    .dataframe tbody tr th:only-of-type {\n",
       "        vertical-align: middle;\n",
       "    }\n",
       "\n",
       "    .dataframe tbody tr th {\n",
       "        vertical-align: top;\n",
       "    }\n",
       "\n",
       "    .dataframe thead th {\n",
       "        text-align: right;\n",
       "    }\n",
       "</style>\n",
       "<table border=\"1\" class=\"dataframe\">\n",
       "  <thead>\n",
       "    <tr style=\"text-align: right;\">\n",
       "      <th></th>\n",
       "      <th>PassengerId</th>\n",
       "      <th>Survived</th>\n",
       "      <th>Pclass</th>\n",
       "      <th>Name</th>\n",
       "      <th>Sex</th>\n",
       "      <th>Age</th>\n",
       "      <th>SibSp</th>\n",
       "      <th>Parch</th>\n",
       "      <th>Ticket</th>\n",
       "      <th>Fare</th>\n",
       "      <th>Cabin</th>\n",
       "      <th>Embarked</th>\n",
       "    </tr>\n",
       "  </thead>\n",
       "  <tbody>\n",
       "    <tr>\n",
       "      <th>0</th>\n",
       "      <td>1</td>\n",
       "      <td>0</td>\n",
       "      <td>3</td>\n",
       "      <td>Braund,Mr.Owen Harris</td>\n",
       "      <td>male</td>\n",
       "      <td>22.0</td>\n",
       "      <td>1</td>\n",
       "      <td>0</td>\n",
       "      <td>A/5 21171</td>\n",
       "      <td>7.2500</td>\n",
       "      <td>NaN</td>\n",
       "      <td>S</td>\n",
       "    </tr>\n",
       "    <tr>\n",
       "      <th>1</th>\n",
       "      <td>2</td>\n",
       "      <td>1</td>\n",
       "      <td>1</td>\n",
       "      <td>Cumings, Mrs. John Bradley(Florence Briggs Thard)</td>\n",
       "      <td>female</td>\n",
       "      <td>38.0</td>\n",
       "      <td>1</td>\n",
       "      <td>0</td>\n",
       "      <td>PC 17599</td>\n",
       "      <td>71.2833</td>\n",
       "      <td>C85</td>\n",
       "      <td>C</td>\n",
       "    </tr>\n",
       "    <tr>\n",
       "      <th>2</th>\n",
       "      <td>3</td>\n",
       "      <td>1</td>\n",
       "      <td>3</td>\n",
       "      <td>Heikkinen, Miss. Laina</td>\n",
       "      <td>female</td>\n",
       "      <td>26.0</td>\n",
       "      <td>0</td>\n",
       "      <td>0</td>\n",
       "      <td>STON/02.3101282</td>\n",
       "      <td>7.9250</td>\n",
       "      <td>NaN</td>\n",
       "      <td>S</td>\n",
       "    </tr>\n",
       "    <tr>\n",
       "      <th>3</th>\n",
       "      <td>4</td>\n",
       "      <td>1</td>\n",
       "      <td>1</td>\n",
       "      <td>Futrelle,Mrs. Jacques Heath(Lily May Peel)</td>\n",
       "      <td>female</td>\n",
       "      <td>35.0</td>\n",
       "      <td>1</td>\n",
       "      <td>0</td>\n",
       "      <td>113803</td>\n",
       "      <td>53.1000</td>\n",
       "      <td>C123</td>\n",
       "      <td>S</td>\n",
       "    </tr>\n",
       "    <tr>\n",
       "      <th>4</th>\n",
       "      <td>5</td>\n",
       "      <td>0</td>\n",
       "      <td>3</td>\n",
       "      <td>Allen, Mr. William Henry</td>\n",
       "      <td>male</td>\n",
       "      <td>35.0</td>\n",
       "      <td>0</td>\n",
       "      <td>0</td>\n",
       "      <td>373450</td>\n",
       "      <td>8.0500</td>\n",
       "      <td>NaN</td>\n",
       "      <td>S</td>\n",
       "    </tr>\n",
       "  </tbody>\n",
       "</table>\n",
       "</div>"
      ],
      "text/plain": [
       "   PassengerId  Survived  Pclass  \\\n",
       "0            1         0       3   \n",
       "1            2         1       1   \n",
       "2            3         1       3   \n",
       "3            4         1       1   \n",
       "4            5         0       3   \n",
       "\n",
       "                                                Name     Sex   Age  SibSp  \\\n",
       "0                              Braund,Mr.Owen Harris    male  22.0      1   \n",
       "1  Cumings, Mrs. John Bradley(Florence Briggs Thard)  female  38.0      1   \n",
       "2                             Heikkinen, Miss. Laina  female  26.0      0   \n",
       "3         Futrelle,Mrs. Jacques Heath(Lily May Peel)  female  35.0      1   \n",
       "4                           Allen, Mr. William Henry    male  35.0      0   \n",
       "\n",
       "   Parch           Ticket     Fare Cabin Embarked  \n",
       "0      0        A/5 21171   7.2500   NaN        S  \n",
       "1      0         PC 17599  71.2833   C85        C  \n",
       "2      0  STON/02.3101282   7.9250   NaN        S  \n",
       "3      0           113803  53.1000  C123        S  \n",
       "4      0           373450   8.0500   NaN        S  "
      ]
     },
     "execution_count": 15,
     "metadata": {},
     "output_type": "execute_result"
    }
   ],
   "source": [
    "# lecture de notre dataframe (dataframe = tableau = ligne + colonne)\n",
    "# Pour cette démonstraction on a juste choisie de definir un tableau avec 5 lignes et 12 colonnes\n",
    "import pandas as pd\n",
    "titanic_data = pd.DataFrame(dict_titanic)\n",
    "titanic_data"
   ]
  },
  {
   "cell_type": "markdown",
   "metadata": {},
   "source": [
    "- `total` = totale du nombre des passagers nqui ont voyager dans le bâteau\n",
    "- `survived` = nombre de passagers ayant survecu à l'accident\n",
    "- `minors` = nombre de passagers mineurs"
   ]
  },
  {
   "cell_type": "code",
   "execution_count": 16,
   "metadata": {
    "execution": {
     "iopub.execute_input": "2025-01-23T23:34:24.686883Z",
     "iopub.status.busy": "2025-01-23T23:34:24.686381Z",
     "iopub.status.idle": "2025-01-23T23:34:24.697569Z",
     "shell.execute_reply": "2025-01-23T23:34:24.696368Z",
     "shell.execute_reply.started": "2025-01-23T23:34:24.686850Z"
    },
    "trusted": true
   },
   "outputs": [
    {
     "name": "stdout",
     "output_type": "stream",
     "text": [
      "5\n",
      "3\n",
      "0\n"
     ]
    }
   ],
   "source": [
    "total = len(titanic_data)                                 # Nombre total de passagers\n",
    "print(total)\n",
    "survived = (titanic_data.Survived == 1).sum()             # Nombre de passagers ayant survecu\n",
    "print(survived)\n",
    "minors = (titanic_data.Age < 18).sum()                    # Nombre de passagers ayant moins de 18 ans\n",
    "print(minors)"
   ]
  },
  {
   "cell_type": "code",
   "execution_count": 17,
   "metadata": {
    "execution": {
     "iopub.execute_input": "2025-01-23T23:37:05.740394Z",
     "iopub.status.busy": "2025-01-23T23:37:05.740033Z",
     "iopub.status.idle": "2025-01-23T23:37:05.749916Z",
     "shell.execute_reply": "2025-01-23T23:37:05.748879Z",
     "shell.execute_reply.started": "2025-01-23T23:37:05.740368Z"
    },
    "trusted": true
   },
   "outputs": [
    {
     "name": "stdout",
     "output_type": "stream",
     "text": [
      "0.6\n",
      "0.0\n"
     ]
    }
   ],
   "source": [
    "survived_fraction =survived/total   \n",
    "print(survived_fraction)\n",
    "minors_fraction = minors/total \n",
    "print(minors_fraction) "
   ]
  },
  {
   "cell_type": "markdown",
   "metadata": {},
   "source": [
    "---"
   ]
  }
 ],
 "metadata": {
  "kaggle": {
   "accelerator": "none",
   "dataSources": [
    {
     "databundleVersionId": 26502,
     "sourceId": 3136,
     "sourceType": "competition"
    }
   ],
   "isGpuEnabled": false,
   "isInternetEnabled": false,
   "language": "python",
   "sourceType": "notebook"
  },
  "kernelspec": {
   "display_name": "Python 3",
   "language": "python",
   "name": "python3"
  },
  "language_info": {
   "codemirror_mode": {
    "name": "ipython",
    "version": 3
   },
   "file_extension": ".py",
   "mimetype": "text/x-python",
   "name": "python",
   "nbconvert_exporter": "python",
   "pygments_lexer": "ipython3",
   "version": "3.10.12"
  }
 },
 "nbformat": 4,
 "nbformat_minor": 4
}
