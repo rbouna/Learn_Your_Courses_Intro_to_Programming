{
 "cells": [
  {
   "cell_type": "markdown",
   "metadata": {},
   "source": [
    "---\n"
   ]
  },
  {
   "cell_type": "markdown",
   "metadata": {},
   "source": [
    "# Importation des module"
   ]
  },
  {
   "cell_type": "code",
   "execution_count": 11,
   "metadata": {},
   "outputs": [],
   "source": [
    "import math"
   ]
  },
  {
   "cell_type": "markdown",
   "metadata": {},
   "source": [
    "# Question 1\n",
    "    Écrire une fonction qui calcule le prix d'un loyer.\n",
    "\n",
    "    Dans la suivante cellule créez la fonction `get_expected_cost()` qui a deux arguments:\n",
    "    - `beds` - nombre de chambres \n",
    "    - `baths` - nombre de salles de bains\n",
    "\n",
    "    Qui retourne le coût de de la maison avec un nombre de chambres et de salles de bains. Assurez vous que:\n",
    "    - Le coût de la maison avec  0 chambre et 0 salle de bain est `80000`.  \n",
    "    - chaque chambre ajouté coûte `30000`.\n",
    "    - chaque salle de bain ajouté coûte `10000`.\n",
    "\n",
    "    Par exemple, \n",
    "    - une maison avec 1 chambre et 1 salle de bain coûte `120000`, et \n",
    "    - une maison avec 2 chambres et 1 salle de bain coûte`150000`."
   ]
  },
  {
   "cell_type": "markdown",
   "metadata": {},
   "source": [
    "# Déclaration des variables beds et baths\n"
   ]
  },
  {
   "cell_type": "code",
   "execution_count": 2,
   "metadata": {},
   "outputs": [],
   "source": [
    "beds = 30000\n",
    "baths = 10000"
   ]
  },
  {
   "cell_type": "code",
   "execution_count": 3,
   "metadata": {
    "execution": {
     "iopub.execute_input": "2024-02-04T16:39:00.238917Z",
     "iopub.status.busy": "2024-02-04T16:39:00.238402Z",
     "iopub.status.idle": "2024-02-04T16:39:00.251724Z",
     "shell.execute_reply": "2024-02-04T16:39:00.250178Z",
     "shell.execute_reply.started": "2024-02-04T16:39:00.238882Z"
    },
    "trusted": true
   },
   "outputs": [
    {
     "name": "stdout",
     "output_type": "stream",
     "text": [
      "120000\n"
     ]
    }
   ],
   "source": [
    "def get_expected_cost(beds, baths):\n",
    "    value = 80000 + 30000*beds + 10000*baths\n",
    "    return value\n",
    "expected_cost = get_expected_cost(1,1)\n",
    "print(expected_cost)"
   ]
  },
  {
   "cell_type": "code",
   "execution_count": 4,
   "metadata": {
    "execution": {
     "iopub.execute_input": "2024-02-04T16:39:00.258316Z",
     "iopub.status.busy": "2024-02-04T16:39:00.257679Z",
     "iopub.status.idle": "2024-02-04T16:39:00.270710Z",
     "shell.execute_reply": "2024-02-04T16:39:00.269861Z",
     "shell.execute_reply.started": "2024-02-04T16:39:00.258282Z"
    },
    "trusted": true
   },
   "outputs": [
    {
     "name": "stdout",
     "output_type": "stream",
     "text": [
      "150000\n"
     ]
    }
   ],
   "source": [
    "def get_expected_cost(beds, baths):\n",
    "    value = 80000 + 30000*beds + 10000*baths\n",
    "    return value\n",
    "expected_cost = get_expected_cost(2,1)\n",
    "print(expected_cost)"
   ]
  },
  {
   "cell_type": "code",
   "execution_count": 5,
   "metadata": {
    "execution": {
     "iopub.execute_input": "2024-02-04T16:39:00.272776Z",
     "iopub.status.busy": "2024-02-04T16:39:00.272022Z",
     "iopub.status.idle": "2024-02-04T16:39:00.282852Z",
     "shell.execute_reply": "2024-02-04T16:39:00.281954Z",
     "shell.execute_reply.started": "2024-02-04T16:39:00.272746Z"
    },
    "trusted": true
   },
   "outputs": [
    {
     "name": "stdout",
     "output_type": "stream",
     "text": [
      "160000\n"
     ]
    }
   ],
   "source": [
    "def get_expected_cost(beds, baths):\n",
    "    value = 80000 + 30000*beds + 10000*baths\n",
    "    return value\n",
    "\n",
    "expected_cost = get_expected_cost(2,2)\n",
    "print(expected_cost)"
   ]
  },
  {
   "cell_type": "markdown",
   "metadata": {},
   "source": [
    "# Question 2\n",
    "    Vous envisagez d'acheter une maison et vous souhaitez avoir une idée du montant que vous allez dépenser, en fonction du nombre de chambres et de salles de bains. Vous essayez de choisir entre quatre options différentes :\n",
    "    - Option 1 : maison avec deux chambres et trois salles de bains\n",
    "    - Option 2 : maison avec trois chambres et deux salles de bains\n",
    "    - Option 3 : maison avec trois chambres et trois salles de bains\n",
    "    - Option 4 : maison avec trois chambres et quatre salles de bains\n",
    "\n",
    "    Utilisez la fonction `get_expected_cost()` que vous avez définie à la question 1 pour définir `option_1`, `option_2`, `option_3` et `option_4` sur le coût prévu de chaque option."
   ]
  },
  {
   "cell_type": "code",
   "execution_count": 9,
   "metadata": {
    "execution": {
     "iopub.execute_input": "2024-02-04T16:39:00.290457Z",
     "iopub.status.busy": "2024-02-04T16:39:00.289944Z",
     "iopub.status.idle": "2024-02-04T16:39:00.304214Z",
     "shell.execute_reply": "2024-02-04T16:39:00.303165Z",
     "shell.execute_reply.started": "2024-02-04T16:39:00.290427Z"
    },
    "trusted": true
   },
   "outputs": [
    {
     "name": "stdout",
     "output_type": "stream",
     "text": [
      "170000\n",
      "190000\n",
      "200000\n",
      "210000\n"
     ]
    }
   ],
   "source": [
    "option_one =get_expected_cost(2,3)\n",
    "option_two = get_expected_cost(3,2)\n",
    "option_three = get_expected_cost(3,3)\n",
    "option_four = get_expected_cost(3,4)\n",
    "print(option_one)\n",
    "print(option_two)\n",
    "print(option_three)\n",
    "print(option_four)"
   ]
  },
  {
   "cell_type": "markdown",
   "metadata": {},
   "source": [
    "# Question 3\n",
    "\n",
    "    Vous êtes décorateur d'intérieur et vous aimeriez utiliser Python pour simplifier une partie de votre travail. Plus précisément, vous créez un outil que vous avez l'intention d'utiliser pour calculer le coût de la peinture d'une pièce.\n",
    "\n",
    "    Dans un premier temps, définissez une fonction `get_cost()` qui prend en entrée :\n",
    "    - `sqft_walls` = nombre total de pieds carrés de murs à peindre\n",
    "    - `sqft_ceiling` = nombre de pieds carrés de plafond à peindre\n",
    "    - `sqft_per_gallon` = nombre de pieds carrés que vous pouvez couvrir avec un gallon de peinture\n",
    "    - `cost_per_gallon` = coût (en dollars) d'un gallon de peinture\n",
    "\n",
    "    Elle doit renvoyer le coût (en dollars) de l'application d'une couche de peinture sur tous les murs et le plafond. Supposons que vous pouvez acheter la quantité exacte de peinture dont vous avez besoin, de sorte que vous pouvez acheter des gallons partiels (par exemple, si vous avez besoin de 7,523 gallons, vous pouvez acheter cette quantité exacte, au lieu de devoir acheter 8 gallons et de gaspiller de la peinture). N'arrondissez pas votre réponse."
   ]
  },
  {
   "cell_type": "code",
   "execution_count": null,
   "metadata": {
    "execution": {
     "iopub.execute_input": "2024-02-04T16:39:00.311833Z",
     "iopub.status.busy": "2024-02-04T16:39:00.311191Z",
     "iopub.status.idle": "2024-02-04T16:39:00.323890Z",
     "shell.execute_reply": "2024-02-04T16:39:00.322899Z",
     "shell.execute_reply.started": "2024-02-04T16:39:00.311811Z"
    },
    "trusted": true
   },
   "outputs": [],
   "source": [
    "def get_cost(sqft_walls, sqft_ceiling, sqft_per_gallon, cost_per_gallon):\n",
    "    total_sqft= sqft_walls + sqft_ceiling\n",
    "    gallons_needed=total_sqft/sqft_per_gallon\n",
    "    cost = cost_per_gallon*gallons_needed\n",
    "    return cost"
   ]
  },
  {
   "cell_type": "markdown",
   "metadata": {},
   "source": [
    "# Question 4\n",
    "\n",
    "    Utilisez la fonction `get_cost()` que vous avez définie à la question 3 pour calculer le coût d'application d'une couche de peinture dans une pièce avec :\n",
    "    - 432 pieds carrés de murs et\n",
    "    - 144 pieds carrés de plafond.\n",
    "\n",
    "    Supposons qu'un gallon de peinture couvre 400 pieds carrés et coûte 15 $. Comme dans la question 3, supposons que vous pouvez acheter des gallons partiels de peinture. N'arrondissez pas votre réponse."
   ]
  },
  {
   "cell_type": "code",
   "execution_count": 10,
   "metadata": {
    "execution": {
     "iopub.execute_input": "2024-02-04T16:39:00.333734Z",
     "iopub.status.busy": "2024-02-04T16:39:00.333411Z",
     "iopub.status.idle": "2024-02-04T16:39:00.347119Z",
     "shell.execute_reply": "2024-02-04T16:39:00.345887Z",
     "shell.execute_reply.started": "2024-02-04T16:39:00.333703Z"
    },
    "trusted": true
   },
   "outputs": [
    {
     "name": "stdout",
     "output_type": "stream",
     "text": [
      "21.599999999999998\n"
     ]
    }
   ],
   "source": [
    "project_cost = get_cost(432,144,400,15)\n",
    "print(project_cost)"
   ]
  },
  {
   "cell_type": "markdown",
   "metadata": {},
   "source": [
    "# Question 5\n",
    "\n",
    "    Supposons maintenant que vous ne puissiez plus acheter de fractions de gallon. (Par exemple, si vous avez besoin de 4,3 gallons pour réaliser un projet, vous devez acheter 5 gallons de peinture.)\n",
    "\n",
    "    Avec ce nouveau scénario, vous allez créer une nouvelle fonction `get_actual_cost` qui utilise les mêmes entrées et calcule le coût de votre projet.\n",
    "\n",
    "    Une fonction que vous devrez utiliser pour ce faire est `math.ceil()`. Nous démontrons l'utilisation de cette fonction dans la cellule de code ci-dessous. Elle prend un nombre en entrée et arrondit le nombre à l'entier supérieur le plus proche.\n",
    "\n",
    "    Exécutez la cellule de code suivante pour tester cette fonction par vous-même. N'hésitez pas à modifier la valeur de `test_value` et assurez-vous que `math.ceil()` renvoie le nombre attendu."
   ]
  },
  {
   "cell_type": "code",
   "execution_count": 12,
   "metadata": {
    "execution": {
     "iopub.execute_input": "2024-02-04T16:39:00.355780Z",
     "iopub.status.busy": "2024-02-04T16:39:00.355470Z",
     "iopub.status.idle": "2024-02-04T16:39:00.363061Z",
     "shell.execute_reply": "2024-02-04T16:39:00.362178Z",
     "shell.execute_reply.started": "2024-02-04T16:39:00.355757Z"
    },
    "trusted": true
   },
   "outputs": [
    {
     "name": "stdout",
     "output_type": "stream",
     "text": [
      "3\n"
     ]
    }
   ],
   "source": [
    "test_value = 2.17\n",
    "rounded_value = math.ceil(test_value)\n",
    "print(rounded_value)"
   ]
  },
  {
   "cell_type": "markdown",
   "metadata": {},
   "source": [
    "    Utilisez la cellule de code suivante pour définir la fonction `get_actual_cost()`. Vous devrez utiliser la fonction `math.ceil()` pour ce faire.\n",
    "\n",
    "    Lorsque vous répondez à cette question, notez qu'il est tout à fait valable de définir une fonction qui utilise une autre fonction. Par exemple, nous pouvons définir une fonction `round_up_and_divide_by_three` qui utilise la fonction `math.ceil` :\n",
    "    ```\n",
    "    def round_up_and_divide_by_three(num):\n",
    "        new_value = math.ceil(num)\n",
    "        final_value = new_value / 3\n",
    "        return final_value\n",
    "    ```"
   ]
  },
  {
   "cell_type": "code",
   "execution_count": null,
   "metadata": {
    "execution": {
     "iopub.execute_input": "2024-02-04T16:39:00.364921Z",
     "iopub.status.busy": "2024-02-04T16:39:00.364538Z",
     "iopub.status.idle": "2024-02-04T16:39:00.375960Z",
     "shell.execute_reply": "2024-02-04T16:39:00.375166Z",
     "shell.execute_reply.started": "2024-02-04T16:39:00.364891Z"
    },
    "trusted": true
   },
   "outputs": [],
   "source": [
    "def get_actual_cost(sqft_walls, sqft_ceiling, sqft_per_gallon, cost_per_gallon):\n",
    "    total_sqft = sqft_walls + sqft_ceiling\n",
    "    gallons_needed = total_sqft / sqft_per_gallon\n",
    "    gallons_to_buy = math.ceil(gallons_needed)\n",
    "    cost = cost_per_gallon * gallons_to_buy\n",
    "    return cost"
   ]
  },
  {
   "cell_type": "markdown",
   "metadata": {},
   "source": [
    "    Une fois votre fonction vérifiée comme correcte, \n",
    "    exécutez la cellule de code suivante pour calculer le coût mis à jour de votre projet."
   ]
  },
  {
   "cell_type": "code",
   "execution_count": 14,
   "metadata": {
    "execution": {
     "iopub.execute_input": "2024-02-04T16:39:00.383898Z",
     "iopub.status.busy": "2024-02-04T16:39:00.383601Z",
     "iopub.status.idle": "2024-02-04T16:39:00.392205Z",
     "shell.execute_reply": "2024-02-04T16:39:00.391149Z",
     "shell.execute_reply.started": "2024-02-04T16:39:00.383870Z"
    },
    "trusted": true
   },
   "outputs": [
    {
     "data": {
      "text/plain": [
       "30"
      ]
     },
     "execution_count": 14,
     "metadata": {},
     "output_type": "execute_result"
    }
   ],
   "source": [
    "get_actual_cost(432, 144, 400, 15) "
   ]
  },
  {
   "cell_type": "markdown",
   "metadata": {},
   "source": [
    "    Supposons que vous travaillez dans une pièce légèrement plus grande.\n",
    "     Exécutez la cellule de code suivante pour calculer le coût du projet."
   ]
  },
  {
   "cell_type": "code",
   "execution_count": 15,
   "metadata": {
    "execution": {
     "iopub.execute_input": "2024-02-04T16:39:00.393862Z",
     "iopub.status.busy": "2024-02-04T16:39:00.393458Z",
     "iopub.status.idle": "2024-02-04T16:39:00.401642Z",
     "shell.execute_reply": "2024-02-04T16:39:00.400750Z",
     "shell.execute_reply.started": "2024-02-04T16:39:00.393832Z"
    },
    "trusted": true
   },
   "outputs": [
    {
     "data": {
      "text/plain": [
       "45"
      ]
     },
     "execution_count": 15,
     "metadata": {},
     "output_type": "execute_result"
    }
   ],
   "source": [
    "get_actual_cost(594, 288, 400, 15) "
   ]
  },
  {
   "cell_type": "markdown",
   "metadata": {},
   "source": [
    "---"
   ]
  }
 ],
 "metadata": {
  "kaggle": {
   "accelerator": "none",
   "dataSources": [],
   "isGpuEnabled": false,
   "isInternetEnabled": false,
   "language": "python",
   "sourceType": "notebook"
  },
  "kernelspec": {
   "display_name": "Python 3",
   "language": "python",
   "name": "python3"
  },
  "language_info": {
   "codemirror_mode": {
    "name": "ipython",
    "version": 3
   },
   "file_extension": ".py",
   "mimetype": "text/x-python",
   "name": "python",
   "nbconvert_exporter": "python",
   "pygments_lexer": "ipython3",
   "version": "3.10.12"
  }
 },
 "nbformat": 4,
 "nbformat_minor": 4
}
